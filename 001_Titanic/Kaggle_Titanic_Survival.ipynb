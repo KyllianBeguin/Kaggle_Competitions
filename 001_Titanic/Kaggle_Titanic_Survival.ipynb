{
 "cells": [
  {
   "cell_type": "code",
   "execution_count": 1,
   "metadata": {},
   "outputs": [],
   "source": [
    "# Import des modules libraries\n",
    "import numpy as np\n",
    "import pandas as pd\n",
    "import matplotlib.pyplot as plt\n",
    "\n",
    "from sklearn.neighbors import KNeighborsClassifier"
   ]
  },
  {
   "cell_type": "code",
   "execution_count": 6,
   "metadata": {},
   "outputs": [],
   "source": [
    "# Pipeline n°01 : Junior pipeline of death\n",
    "\n",
    "def Titanic_pipeline(df):\n",
    "    Titanic_clean = df.drop(['Cabin'], axis=1)\n",
    "\n",
    "    # Dummies for sex\n",
    "    Titanic_sex = pd.Series(Titanic_clean['Sex'])\n",
    "    Sex_dummies = pd.get_dummies(Titanic_sex)\n",
    "    Titanic_clean = Titanic_clean.merge(Sex_dummies, left_index=True, right_index=True)\n",
    "\n",
    "    # Dummies for Embarked\n",
    "    Titanic_clean['Embarked'].fillna(value='S', inplace=True)\n",
    "    Titanic_Emb = pd.Series(Titanic_clean['Embarked'])\n",
    "    Emb_dummies = pd.get_dummies(Titanic_Emb, prefix='Emb')\n",
    "    Titanic_clean = Titanic_clean.merge(Emb_dummies, left_index=True, right_index=True)\n",
    "\n",
    "    # Interval and Dummies for Age\n",
    "    Titanic_clean['Age'].fillna(value=Titanic_clean['Age'].mean(), inplace=True)\n",
    "    Titanic_AgeCut = pd.cut(Titanic_clean['Age'], 5)\n",
    "    AgeCut_dummies = pd.get_dummies(Titanic_AgeCut)\n",
    "    AgeCut_Intervals = AgeCut_dummies.columns\n",
    "    AgeCut_dummies.columns = ['Age_'+str(i+1) for i in range(5)] # Renaming cols to make manipulation easier\n",
    "    Titanic_clean = Titanic_clean.merge(AgeCut_dummies, left_index=True, right_index=True)\n",
    "\n",
    "    # Interval and Dummies for Fare\n",
    "    Titanic_FareCut = pd.cut(Titanic_clean['Fare'], 5)\n",
    "    FareCut_dummies = pd.get_dummies(Titanic_FareCut)\n",
    "    FareCut_Intervals = FareCut_dummies.columns\n",
    "    FareCut_dummies.columns = ['Fare_'+str(i+1) for i in range(5)] # Renaming cols to make manipulation easier\n",
    "    Titanic_clean = Titanic_clean.merge(FareCut_dummies, left_index=True, right_index=True)    \n",
    "    \n",
    "    # Make the training set\n",
    "    Titanic = Titanic_clean[['female', 'male', 'Emb_C', 'Emb_Q', 'Emb_S',\n",
    "                                    'Age_1', 'Age_2', 'Age_3', 'Age_4', 'Age_5',\n",
    "                            'Fare_1', 'Fare_2', 'Fare_3', 'Fare_4', 'Fare_5']]\n",
    "    \n",
    "    # Extract first column, should be 'Survived' for Training set\n",
    "    if('Survived' in Titanic_clean.columns):\n",
    "        First_Col = Titanic_clean['Survived']\n",
    "    else:\n",
    "        First_Col = Titanic_clean[Titanic_clean.columns[0]]\n",
    "    \n",
    "    return Titanic, First_Col"
   ]
  },
  {
   "cell_type": "code",
   "execution_count": 7,
   "metadata": {},
   "outputs": [],
   "source": [
    "# Load both datasets\n",
    "\n",
    "# Training set\n",
    "Titanic_train_raw = pd.read_csv('train.csv')\n",
    "\n",
    "# Testing set\n",
    "Titanic_test_raw = pd.read_csv('test.csv')"
   ]
  },
  {
   "cell_type": "code",
   "execution_count": 8,
   "metadata": {},
   "outputs": [],
   "source": [
    "# Use the piepline function to make the datasets for the machine learning part\n",
    "\n",
    "# Training set\n",
    "Titanic_train, Y_train = Titanic_pipeline(Titanic_train_raw)\n",
    "\n",
    "# Testing set\n",
    "Titanic_test, Trash = Titanic_pipeline(Titanic_test_raw)\n",
    "\n",
    "# /!\\ CAUTION : 'Survived' column is in both datasets, be aware of that when you will be fitting the model."
   ]
  },
  {
   "cell_type": "code",
   "execution_count": 9,
   "metadata": {},
   "outputs": [],
   "source": [
    "# Machine Learning - Use of the KNN, K = 3\n",
    "\n",
    "knn = KNeighborsClassifier(3)"
   ]
  },
  {
   "cell_type": "code",
   "execution_count": 10,
   "metadata": {},
   "outputs": [
    {
     "data": {
      "text/plain": [
       "KNeighborsClassifier(n_neighbors=3)"
      ]
     },
     "execution_count": 10,
     "metadata": {},
     "output_type": "execute_result"
    }
   ],
   "source": [
    "# Fitting the model\n",
    "\n",
    "knn.fit(Titanic_train, Y_train)"
   ]
  },
  {
   "cell_type": "code",
   "execution_count": 11,
   "metadata": {},
   "outputs": [],
   "source": [
    "# Make the prediction !\n",
    "\n",
    "Y_test_pred = knn.predict(Titanic_test)"
   ]
  },
  {
   "cell_type": "code",
   "execution_count": 12,
   "metadata": {},
   "outputs": [],
   "source": [
    "# Merge prediction and Passenger ID and save it as .csv file\n",
    "\n",
    "Pred_output = pd.DataFrame(Trash) # Make a DataFrame out of the passenger ID\n",
    "Pred_output['Survived'] = Y_test_pred # Add the prediction for each passenger\n",
    "\n",
    "# Save the data frame into a .csv file !\n",
    "Pred_output.to_csv('KyllianBeguin_KaggleCompetition_TitanicSurvival.csv', index=False)"
   ]
  },
  {
   "cell_type": "code",
   "execution_count": 21,
   "metadata": {},
   "outputs": [],
   "source": [
    "# GRAPHICS\n",
    "# List of all the graphs :\n",
    "# - NAs of all training set columns, to justify the drop of 'Cabin' before permorfing .dropna() function\n",
    "# - Counts for the used variables (pipelined data sets) for training set\n",
    "# - Counts for the used variables (pipelined data sets) for testing set (with predicted number of people that survived)\n",
    "# - Number of people that survived vs died (prediction)\n",
    "\n",
    "\n",
    "# Add the 'Survived' column to the pieplined data sets (training and testing sets)\n",
    "Titanic_test.insert(0, 'Survived', Y_test_pred) # Prediction\n",
    "\n",
    "Titanic_train.insert(0, 'Survived', Y_train) # Real results from the training set (The second ouput of the piepline function)"
   ]
  },
  {
   "cell_type": "code",
   "execution_count": 22,
   "metadata": {},
   "outputs": [],
   "source": [
    "# Functions used for graphs\n",
    "\n",
    "def Na_Evaluation(df):\n",
    "    Na_Eval_List = []\n",
    "    for i in range(len(df.columns)):\n",
    "        Num = df[df.columns[i]].isna().sum()\n",
    "        Na_Eval_List.append(Num)\n",
    "    return Na_Eval_List\n",
    "\n",
    "def Put_labels(ax, label):\n",
    "    rects = ax.patches # Access to the bars, in order to get height and width\n",
    "    for rect, label in zip(rects, label): # Place the labels\n",
    "        height = rect.get_height()\n",
    "        ax.text(rect.get_x() + rect.get_width() / 2, height + 5, label,\n",
    "                ha='center', va='bottom')"
   ]
  },
  {
   "cell_type": "code",
   "execution_count": 23,
   "metadata": {},
   "outputs": [
    {
     "data": {
      "image/png": "[encoded data removed]",
      "text/plain": [
       "<Figure size 1080x360 with 1 Axes>"
      ]
     },
     "metadata": {
      "needs_background": "light"
     },
     "output_type": "display_data"
    }
   ],
   "source": [
    "# [Graph 01]\n",
    "# __Number of NAs by column__\n",
    "\n",
    "\n",
    "Nas_RAW = Na_Evaluation(Titanic_train_raw) # Number of the Nas for each column\n",
    "Col_Names_Titanic = list(Titanic_train_raw.columns) # Names of the columns for the RAW datasets\n",
    "Col_Numbers_Titanic = np.arange(len(Col_Names_Titanic)) # List of integers to setup the bar chart\n",
    "\n",
    "# Graphic of the output from the Na_Evaluation function\n",
    "fig, ax = plt.subplots(figsize = (15,5))\n",
    "ax.bar(Col_Numbers_Titanic, Nas_RAW, 0.85) # The bar plot\n",
    "\n",
    "ax.set_xticks(Col_Numbers_Titanic) # Ticks to each integer from the function\n",
    "ax.set_xticklabels(Col_Names_Titanic) # Label each tick with the column's name\n",
    "\n",
    "Put_labels(ax, Nas_RAW)\n",
    "    \n",
    "plt.ylim([0, 750])\n",
    "\n",
    "plt.title('[Train dataset] Number of NAs for each variable\\n')\n",
    "\n",
    "plt.show()\n",
    "\n",
    "# 'Cabin' and 'Age' have a lot of NAs.\n",
    "# performing a dropna() will loose a lot of information.\n",
    "# By removing the 'Cabin' column, I wont loose more than 177+2 rows ('Age'+'Embarked').\n",
    "# This is better than possibly loosing 687 more rows from 'Cabin'."
   ]
  },
  {
   "cell_type": "code",
   "execution_count": 24,
   "metadata": {},
   "outputs": [
    {
     "data": {
      "image/png": "[encoded data removed]",
      "text/plain": [
       "<Figure size 1080x432 with 1 Axes>"
      ]
     },
     "metadata": {
      "needs_background": "light"
     },
     "output_type": "display_data"
    }
   ],
   "source": [
    "# [Graph 02]\n",
    "# Overview of the variables : Counts for train data set\n",
    "\n",
    "fig, ax = plt.subplots(figsize=(15,6))\n",
    "\n",
    "x = np.arange(len(Titanic_train.columns))\n",
    "Sum_cols = [Titanic_train[Titanic_train.columns[i]].sum() for i in range(len(Titanic_train.columns))]\n",
    "\n",
    "red = ['r']\n",
    "blues = ['b' for i in range(len(Titanic_train.columns)-1)]\n",
    "\n",
    "rect = ax.bar(x, Sum_cols, color=red+blues)\n",
    "ax.set_xticks(x)\n",
    "ax.set_xticklabels(Titanic_train.columns)\n",
    "ax.hlines(Sum_cols[0], -0.5, len(Sum_cols)-0.5, color='r')\n",
    "\n",
    "plt.title('[Train dataset] Sum for each variable\\n')\n",
    "\n",
    "plt.show()"
   ]
  },
  {
   "cell_type": "code",
   "execution_count": 25,
   "metadata": {},
   "outputs": [
    {
     "data": {
      "image/png": "[encoded data removed]",
      "text/plain": [
       "<Figure size 1080x432 with 1 Axes>"
      ]
     },
     "metadata": {
      "needs_background": "light"
     },
     "output_type": "display_data"
    }
   ],
   "source": [
    "# [Graph 03]\n",
    "# Overview of the variables : Counts for test data set\n",
    "\n",
    "fig, ax = plt.subplots(figsize=(15,6))\n",
    "\n",
    "x = np.arange(len(Titanic_test.columns))\n",
    "Sum_cols = [Titanic_test[Titanic_test.columns[i]].sum() for i in range(len(Titanic_test.columns))]\n",
    "\n",
    "red = ['r']\n",
    "blues = ['b' for i in range(len(Titanic_test.columns)-1)]\n",
    "\n",
    "rect = ax.bar(x, Sum_cols, color=red+blues)\n",
    "ax.set_xticks(x)\n",
    "ax.set_xticklabels(Titanic_train.columns)\n",
    "ax.hlines(Sum_cols[0], -0.5, len(Sum_cols)-0.5, color='r')\n",
    "\n",
    "plt.title('[Test dataset] Sum for each variable\\nSurvived column is the prediction\\n')\n",
    "\n",
    "plt.show()"
   ]
  },
  {
   "cell_type": "code",
   "execution_count": 26,
   "metadata": {},
   "outputs": [
    {
     "data": {
      "image/png": "[encoded data removed]",
      "text/plain": [
       "<Figure size 288x360 with 1 Axes>"
      ]
     },
     "metadata": {
      "needs_background": "light"
     },
     "output_type": "display_data"
    }
   ],
   "source": [
    "# [Graph 04]\n",
    "# Survival %: Prediction vs Train data\n",
    "\n",
    "# Dataframe of predictions\n",
    "df01 = pd.DataFrame()\n",
    "df01['Passenger_ID'] = Trash\n",
    "df01['Survived_Pred'] = Y_test_pred\n",
    "df01['Not_Survived_Pred'] = [1 if Y_test_pred[i] == 0 else 0 for i in range(len(Y_test_pred))]\n",
    "\n",
    "# Dataframe of train survival data\n",
    "df02 = pd.DataFrame()\n",
    "df02['Survived_Train'] = Y_train\n",
    "df02['Not_Survived_Train'] = [1 if list(Y_train)[i] == 0 else 0 for i in range(len(Y_train))]\n",
    "\n",
    "fig, ax = plt.subplots(figsize=(4,5))\n",
    "\n",
    "x = np.arange(4)\n",
    "x_ticks = [0.5, 2.5]\n",
    "\n",
    "# List of the percentage of survivability for each set\n",
    "Sum_cols = [((df01[df01.columns[1]].sum())/(df01[df01.columns[1]].sum()+df01[df01.columns[2]].sum()))*100,\n",
    "            ((df02[df02.columns[0]].sum())/(df02[df02.columns[0]].sum()+df02[df02.columns[1]].sum()))*100,\n",
    "            ((df01[df01.columns[2]].sum())/(df01[df01.columns[1]].sum()+df01[df01.columns[2]].sum()))*100,\n",
    "           ((df02[df02.columns[1]].sum())/(df02[df02.columns[0]].sum()+df02[df02.columns[1]].sum()))*100]\n",
    "colors = ['b', 'g', 'b', 'g']\n",
    "\n",
    "\n",
    "rect = ax.bar(x, Sum_cols, color=colors)\n",
    "ax.set_xticks(x_ticks)\n",
    "ax.set_xticklabels(['Survived', 'Died'])\n",
    "\n",
    "ax.legend((rect), ('Prediction', 'Train'))\n",
    "\n",
    "plt.title('[Survival]\\nPrediction VS Train set\\n')\n",
    "\n",
    "plt.show()"
   ]
  },
  {
   "cell_type": "code",
   "execution_count": null,
   "metadata": {},
   "outputs": [],
   "source": []
  }
 ],
 "metadata": {
  "kernelspec": {
   "display_name": "Python 3",
   "language": "python",
   "name": "python3"
  },
  "language_info": {
   "codemirror_mode": {
    "name": "ipython",
    "version": 3
   },
   "file_extension": ".py",
   "mimetype": "text/x-python",
   "name": "python",
   "nbconvert_exporter": "python",
   "pygments_lexer": "ipython3",
   "version": "3.8.5"
  }
 },
 "nbformat": 4,
 "nbformat_minor": 4
}
